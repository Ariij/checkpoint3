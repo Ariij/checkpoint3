{
 "cells": [
  {
   "cell_type": "code",
   "execution_count": 5,
   "metadata": {},
   "outputs": [
    {
     "name": "stdout",
     "output_type": "stream",
     "text": [
      "please enter the number of input in your list\n",
      "3\n",
      "now please enter 3 values in your list \n",
      "2\n",
      "3\n",
      "6\n",
      "your list is:  [2, 3, 6]\n",
      "the result is:  36\n"
     ]
    }
   ],
   "source": [
    "my_list = []\n",
    "print(\"please enter the number of input in your list\")\n",
    "n= int(input())\n",
    "print(\"now please enter\", n ,\"values in your list \")\n",
    "for i in range(0, n):\n",
    "    my_list.append(int(input()))\n",
    "print(\"your list is: \",my_list)\n",
    "\n",
    "value=1\n",
    "\n",
    "for j in range (0, n):\n",
    "     value=value*my_list[j]\n",
    " \n",
    "print(\"the result is: \", value)"
   ]
  },
  {
   "cell_type": "code",
   "execution_count": 29,
   "metadata": {},
   "outputs": [
    {
     "name": "stdout",
     "output_type": "stream",
     "text": [
      "[(2, 1), (1, 2), (2, 3), (4, 4), (2, 5)]\n"
     ]
    }
   ],
   "source": [
    "#a = []\n",
    "#print(\"please enter the number of input in your list\")\n",
    "#n= int(input())\n",
    "#print(\"now please enter\",2 * n ,\"values in your list \")\n",
    "#for i in range(0, n):\n",
    "#   a.append(int(input()))     \n",
    "#print(\"your list is: \",a)       !! => this is where I found a problem, how to input in a list with this structure: a[(a,b),(c,d)]\n",
    "\n",
    "    \n",
    "a=[(2, 5), (1, 2), (4, 4), (2, 3), (2, 1)]\n",
    "#I took this as an example because I didn't know how to enter the list in this format\n",
    "\n",
    "for j in range (1,len(a)) :\n",
    "    for i in range(len(a)-j) :\n",
    "        if a[i][1]>a[i+1][1] :\n",
    "            temp=a[i]\n",
    "            a[i]=a[i+1]\n",
    "            a[i+1]=temp\n",
    "            \n",
    "\n",
    "print(a)\n",
    "\n",
    "#this exercise is really hard :p "
   ]
  },
  {
   "cell_type": "code",
   "execution_count": 48,
   "metadata": {},
   "outputs": [
    {
     "name": "stdout",
     "output_type": "stream",
     "text": [
      "please enter the number of input in your dictonary\n",
      "3\n",
      "now please enter 3 values in your dictionary d1 \n",
      "1\n",
      "a\n",
      "2\n",
      "b\n",
      "3\n",
      "c\n",
      "Good job!! now please enter 3 values in your dictionary d2 \n",
      "1\n",
      "a\n",
      "5\n",
      "b\n",
      "6\n",
      "d\n",
      "your dictionary d1 is:  {'a': 1, 'b': 2, 'c': 3}\n",
      "your dictionary d2 is {'a': 1, 'b': 5, 'd': 6}\n",
      "{'a': 1, 'b': 5, 'd': 6, 'c': 3}\n"
     ]
    }
   ],
   "source": [
    "d1= {}\n",
    "d2={}\n",
    "d3 = {}\n",
    "print(\"please enter the number of input in your dictonary\")\n",
    "n= int(input())\n",
    "print(\"now please enter\", n ,\"values in your dictionary d1 \")\n",
    "for i in range(0, n):\n",
    "    d1[input()] = int(input()) \n",
    "    \n",
    "print(\"Good job!! now please enter\", n ,\"values in your dictionary d2 \")\n",
    "for i in range(0, n):\n",
    "    d2[input()] = int(input()) \n",
    "    \n",
    "print(\"your dictionary d1 is: \",d1)\n",
    "print(\"your dictionary d2 is\",d2)\n",
    "\n",
    "\n",
    "\n",
    "for i, j in d1.items():\n",
    "\n",
    "    for x, y in d2.items():\n",
    "\n",
    "        if i == x:\n",
    "\n",
    "            d3[i]=(j+y)\n",
    "        else:\n",
    "            d3[x]= y\n",
    "            d3[i]= j\n",
    "            \n",
    "            \n",
    "\n",
    "print(\"your result is\",d3)\n",
    "\n"
   ]
  },
  {
   "cell_type": "code",
   "execution_count": 52,
   "metadata": {},
   "outputs": [
    {
     "name": "stdout",
     "output_type": "stream",
     "text": [
      "[('item3', '24.5'), ('item2', '15.10'), ('item1', '12.20')]\n"
     ]
    }
   ],
   "source": [
    "a = [('item1', '12.20'), ('item2', '15.10'), ('item3', '24.5')]\n",
    "#I had the same issue in inserting the tuple as exercise 2\n",
    "#also I don't understand why we inserted a as a list (between []) and in a tuple it is supposed to be in ()\n",
    "\n",
    "for j in range (1,len(a)) :\n",
    "    for i in range(len(a)-j) :\n",
    "        if a[i][1]<a[i+1][1] :\n",
    "            temp=a[i]\n",
    "            a[i]=a[i+1]\n",
    "            a[i+1]=temp\n",
    "            \n",
    "print(a)\n"
   ]
  },
  {
   "cell_type": "code",
   "execution_count": null,
   "metadata": {},
   "outputs": [],
   "source": []
  }
 ],
 "metadata": {
  "kernelspec": {
   "display_name": "Python 3",
   "language": "python",
   "name": "python3"
  },
  "language_info": {
   "codemirror_mode": {
    "name": "ipython",
    "version": 3
   },
   "file_extension": ".py",
   "mimetype": "text/x-python",
   "name": "python",
   "nbconvert_exporter": "python",
   "pygments_lexer": "ipython3",
   "version": "3.7.6"
  }
 },
 "nbformat": 4,
 "nbformat_minor": 4
}
